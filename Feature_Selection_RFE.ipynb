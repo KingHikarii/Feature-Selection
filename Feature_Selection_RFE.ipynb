{
  "nbformat": 4,
  "nbformat_minor": 0,
  "metadata": {
    "colab": {
      "provenance": [],
      "collapsed_sections": []
    },
    "kernelspec": {
      "name": "python3",
      "display_name": "Python 3"
    },
    "language_info": {
      "name": "python"
    }
  },
  "cells": [
    {
      "cell_type": "code",
      "source": [
        "import pandas  as pd\n",
        "import numpy as np\n",
        "\n",
        "#===========================================================================\n",
        "# read in the data and specify the target feature\n",
        "#===========================================================================\n",
        "\n",
        "df = pd.read_csv('/content/Averaged.csv')\n",
        "df = df.drop(['TEAM'], axis = 1)\n",
        "target = ['WINP']\n",
        "\n",
        "from sklearn.model_selection import train_test_split \n",
        "\n",
        "#In order to avoid overfitting.\n",
        "\n",
        "X_train, X_test, y_train, y_test = train_test_split(df.drop(labels = ['WINP'], axis=1),\n",
        "                                                    df['WINP'],\n",
        "                                                    test_size = 0.3,\n",
        "                                                    random_state=0)\n",
        "\n",
        "#===========================================================================\n",
        "# set up our regressor. Today we shall be using the random forest\n",
        "#===========================================================================\n",
        "from sklearn.ensemble import RandomForestRegressor\n",
        "regressor = RandomForestRegressor(n_estimators=100, max_depth=10)\n",
        "\n",
        "#===========================================================================\n",
        "# perform a scikit-learn Recursive Feature Elimination (RFE)\n",
        "#===========================================================================\n",
        "from sklearn.feature_selection import RFE\n",
        "# here we want only one final feature, we do this to produce a ranking\n",
        "n_features_to_select = 1\n",
        "rfe = RFE(regressor, n_features_to_select=n_features_to_select)\n",
        "rfe.fit(X_train, y_train)\n",
        "\n",
        "#===========================================================================\n",
        "# now print out the features in order of ranking\n",
        "#===========================================================================\n",
        "from operator import itemgetter\n",
        "features = X_train.columns.to_list()\n",
        "for x, y in (sorted(zip(rfe.ranking_ , features), key=itemgetter(0))):\n",
        "    print(x, y)\n",
        "\n",
        "#===========================================================================\n",
        "# ok, this time let's choose the top 10 featues and use them for the model\n",
        "#===========================================================================\n",
        "n_features_to_select = 10\n",
        "rfe = RFE(regressor, n_features_to_select=n_features_to_select)\n",
        "rfe.fit(X_train, y_train)\n",
        "\n",
        "#===========================================================================\n",
        "# use the model to predict the prices for the test data\n",
        "#===========================================================================\n",
        "predictions = rfe.predict(X_test)\n",
        "\n",
        "#===========================================================================\n",
        "# write out CSV submission file\n",
        "#===========================================================================\n",
        "#output = pd.DataFrame({\"Id\":df.index, target:predictions})\n",
        "#output.to_csv('submission.csv', index=False)"
      ],
      "metadata": {
        "colab": {
          "base_uri": "https://localhost:8080/",
          "height": 651
        },
        "id": "qZrm_pM6H749",
        "outputId": "dc5980c2-c8b1-4fea-c8f9-799599bc65b4"
      },
      "execution_count": null,
      "outputs": [
        {
          "output_type": "stream",
          "name": "stdout",
          "text": [
            "1 W\n",
            "2 POS/NEG\n",
            "3 DREB\n",
            "4 GP\n",
            "5 FTM\n",
            "6 FGA\n",
            "7 PTS\n",
            "8 BLKA\n",
            "9 FGP\n",
            "10 PFD\n",
            "11 L\n",
            "12 FGM\n",
            "13 FTA\n",
            "14 OREB\n",
            "15 PF\n",
            "16 FTP\n",
            "17 STL\n",
            "18 REB\n",
            "19 3PA\n",
            "20 3PM\n",
            "21 AST\n",
            "22 BLK\n",
            "23 3PP\n",
            "24 TOV\n",
            "25 MIN\n"
          ]
        },
        {
          "output_type": "error",
          "ename": "TypeError",
          "evalue": "ignored",
          "traceback": [
            "\u001b[0;31m---------------------------------------------------------------------------\u001b[0m",
            "\u001b[0;31mTypeError\u001b[0m                                 Traceback (most recent call last)",
            "\u001b[0;32m<ipython-input-61-2a57dd88e1e3>\u001b[0m in \u001b[0;36m<module>\u001b[0;34m\u001b[0m\n\u001b[1;32m     57\u001b[0m \u001b[0;31m# write out CSV submission file\u001b[0m\u001b[0;34m\u001b[0m\u001b[0;34m\u001b[0m\u001b[0;34m\u001b[0m\u001b[0m\n\u001b[1;32m     58\u001b[0m \u001b[0;31m#===========================================================================\u001b[0m\u001b[0;34m\u001b[0m\u001b[0;34m\u001b[0m\u001b[0;34m\u001b[0m\u001b[0m\n\u001b[0;32m---> 59\u001b[0;31m \u001b[0moutput\u001b[0m \u001b[0;34m=\u001b[0m \u001b[0mpd\u001b[0m\u001b[0;34m.\u001b[0m\u001b[0mDataFrame\u001b[0m\u001b[0;34m(\u001b[0m\u001b[0;34m{\u001b[0m\u001b[0;34m\"Id\"\u001b[0m\u001b[0;34m:\u001b[0m\u001b[0mdf\u001b[0m\u001b[0;34m.\u001b[0m\u001b[0mindex\u001b[0m\u001b[0;34m,\u001b[0m \u001b[0mtarget\u001b[0m\u001b[0;34m:\u001b[0m\u001b[0mpredictions\u001b[0m\u001b[0;34m}\u001b[0m\u001b[0;34m)\u001b[0m\u001b[0;34m\u001b[0m\u001b[0;34m\u001b[0m\u001b[0m\n\u001b[0m\u001b[1;32m     60\u001b[0m \u001b[0moutput\u001b[0m\u001b[0;34m.\u001b[0m\u001b[0mto_csv\u001b[0m\u001b[0;34m(\u001b[0m\u001b[0;34m'submission.csv'\u001b[0m\u001b[0;34m,\u001b[0m \u001b[0mindex\u001b[0m\u001b[0;34m=\u001b[0m\u001b[0;32mFalse\u001b[0m\u001b[0;34m)\u001b[0m\u001b[0;34m\u001b[0m\u001b[0;34m\u001b[0m\u001b[0m\n",
            "\u001b[0;31mTypeError\u001b[0m: unhashable type: 'list'"
          ]
        }
      ]
    },
    {
      "cell_type": "code",
      "source": [],
      "metadata": {
        "id": "owwVyvETIMMr"
      },
      "execution_count": null,
      "outputs": []
    }
  ]
}